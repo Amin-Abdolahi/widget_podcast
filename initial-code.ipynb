{
 "cells": [
  {
   "cell_type": "code",
   "execution_count": null,
   "id": "b5589f5c",
   "metadata": {},
   "outputs": [],
   "source": [
    "import vlc\n",
    "import time\n",
    "\n",
    "test_url = \"https://n0f.radiojar.com/cp13r2cpn3quv?rj-ttl=5&rj-tok=AAABmFb28ogAsgFGYJBWp95T4Q\"\n",
    "\n",
    "url = input(\"Enter file addres or url: \")\n",
    "if url == \"\" :\n",
    "    url = test_url\n",
    "player = vlc.MediaPlayer(url)\n",
    "player.play()\n",
    "time.sleep(0.5)\n",
    "\n",
    "while True :\n",
    "\n",
    "    command = input(command = input(\"\\n1- Stop\\n2- Refresh\\n3- Volume\\n4- Sleep timer\\nEnter your choice: \")\n",
    ")\n",
    "\n",
    "    if command == \"1\" :\n",
    "        player.stop()\n",
    "        break\n",
    "\n",
    "    elif command == \"2\" :\n",
    "        player.play()\n",
    "\n",
    "    elif command == \"3\" :\n",
    "        volume = int(input(\"Enter a number between 1 - 100 for  set the volume\"))\n",
    "        player.audio_set_volume(volume)\n",
    "        #player.audio_set_volume(50)\n",
    "\n",
    "    elif command == \"4\" :\n",
    "        timer = int(input( \"Enter time in minutes: \")) * 60\n",
    "        time.sleep(timer)\n",
    "        player.stop()\n",
    "        break\n",
    "\n",
    "    else :\n",
    "        print(\"invalid order try again: \")\n",
    "        continue\n",
    "\n",
    "\n",
    "value = player.audio_get_volume()\n",
    "\n",
    "print(\"Audio Volume : \")\n",
    "print(value)\n"
   ]
  },
  {
   "cell_type": "code",
   "execution_count": 7,
   "id": "6d243b59",
   "metadata": {},
   "outputs": [
    {
     "name": "stderr",
     "output_type": "stream",
     "text": [
      "[0000791b70001da0] main tls client error: TLS session handshake timeout\n",
      "[0000791b70001da0] main tls client error: connection error: Resource temporarily unavailable\n",
      "[0000791b7029cba0] main tls client error: TLS session handshake timeout\n",
      "[0000791b7029cba0] main tls client error: connection error: Resource temporarily unavailable\n"
     ]
    },
    {
     "name": "stdout",
     "output_type": "stream",
     "text": [
      "\n",
      "Final Audio Volume: -1\n"
     ]
    }
   ],
   "source": [
    "import vlc\n",
    "import time\n",
    "\n",
    "test_url = \"https://n0f.radiojar.com/cp13r2cpn3quv?rj-ttl=5&rj-tok=AAABmFb28ogAsgFGYJBWp95T4Q\"\n",
    "url = input(\"Enter file address or URL (or press Enter to use test URL): \")\n",
    "if url.strip() == \"\":\n",
    "    url = test_url\n",
    "\n",
    "player = vlc.MediaPlayer(url)\n",
    "player.play()\n",
    "time.sleep(0.5)  # برای اطمینان از شروع پخش\n",
    "\n",
    "while True:\n",
    "    command = input(\"\\n1- Stop\\n2- Refresh\\n3- Volume\\n4- Sleep timer\\nEnter your choice: \")\n",
    "\n",
    "    if command == \"1\":\n",
    "        player.stop()\n",
    "        break\n",
    "\n",
    "    elif command == \"2\":\n",
    "        player.play()\n",
    "\n",
    "    elif command == \"3\":\n",
    "        try:\n",
    "            volume = int(input(\"Enter a number between 0 - 100 for the volume: \"))\n",
    "            if 0 <= volume <= 100:\n",
    "                player.audio_set_volume(volume)\n",
    "            else:\n",
    "                print(\"Volume must be between 0 and 100.\")\n",
    "        except ValueError:\n",
    "            print(\"Invalid number.\")\n",
    "\n",
    "    elif command == \"4\":\n",
    "        try:\n",
    "            timer = int(input(\"Enter time in minutes: \")) * 60\n",
    "            print(f\"Sleeping for {timer//60} minutes...\")\n",
    "            time.sleep(timer)\n",
    "            player.stop()\n",
    "            break\n",
    "        except ValueError:\n",
    "            print(\"Invalid number.\")\n",
    "\n",
    "    else:\n",
    "        print(\"Invalid choice, try again.\")\n",
    "\n",
    "value = player.audio_get_volume()\n",
    "print(f\"\\nFinal Audio Volume: {value}\")\n"
   ]
  }
 ],
 "metadata": {
  "kernelspec": {
   "display_name": "podcast_widget",
   "language": "python",
   "name": "python3"
  },
  "language_info": {
   "codemirror_mode": {
    "name": "ipython",
    "version": 3
   },
   "file_extension": ".py",
   "mimetype": "text/x-python",
   "name": "python",
   "nbconvert_exporter": "python",
   "pygments_lexer": "ipython3",
   "version": "3.13.5"
  }
 },
 "nbformat": 4,
 "nbformat_minor": 5
}
