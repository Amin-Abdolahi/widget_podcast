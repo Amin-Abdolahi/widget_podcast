{
 "cells": [
  {
   "cell_type": "code",
   "execution_count": null,
   "id": "b5589f5c",
   "metadata": {},
   "outputs": [
    {
     "name": "stderr",
     "output_type": "stream",
     "text": [
      "[000072f580006de0] main tls client error: TLS session handshake timeout\n",
      "[000072f580006de0] main tls client error: connection error: Resource temporarily unavailable\n",
      "[000072f5802bf9d0] main tls client error: TLS session handshake timeout\n",
      "[000072f5802bf9d0] main tls client error: connection error: Resource temporarily unavailable\n"
     ]
    },
    {
     "name": "stdout",
     "output_type": "stream",
     "text": [
      "Audio Volume : \n",
      "-1\n"
     ]
    }
   ],
   "source": [
    "import vlc\n",
    "import time\n",
    "\n",
    "test_url = \"https://n06.radiojar.com/cp13r2cpn3quv?rj-ttl=5\"\n",
    "\n",
    "url = input(\"Enter file addres or url: \")\n",
    "if url == \"\" :\n",
    "    url = test_url\n",
    "player = vlc.MediaPlayer(url)\n",
    "player.play()\n",
    "\n",
    "while True :\n",
    "\n",
    "    command = input(\"\\n1- Stop\\n2- Refresh\\n3- Volume\\n4- Sleep timer\\nEnter your choice: \")\n",
    "\n",
    "\n",
    "    if command == \"1\" :\n",
    "        player.stop()\n",
    "        break\n",
    "\n",
    "    elif command == \"2\" :\n",
    "        player.play()\n",
    "\n",
    "    elif command == \"3\" :\n",
    "        volume = int(input(\"Enter a number between 1 - 100 for  set the volume\"))\n",
    "        player.audio_set_volume(volume)\n",
    "        #player.audio_set_volume(50)\n",
    "\n",
    "    elif command == \"4\" :\n",
    "        timer = int(input( \"Enter time in minutes: \")) * 60\n",
    "        time.sleep(timer)\n",
    "        player.stop()\n",
    "        break\n",
    "\n",
    "    else :\n",
    "        print(\"invalid order try again: \")\n",
    "        continue\n",
    "\n"
   ]
  },
  {
   "cell_type": "code",
   "execution_count": null,
   "id": "6d243b59",
   "metadata": {},
   "outputs": [
    {
     "name": "stderr",
     "output_type": "stream",
     "text": [
      "[000072c3ec003bc0] main tls client error: TLS session handshake timeout\n",
      "[000072c3ec003bc0] main tls client error: connection error: Resource temporarily unavailable\n",
      "[000072c3ec2bfa20] main tls client error: TLS session handshake timeout\n",
      "[000072c3ec2bfa20] main tls client error: connection error: Resource temporarily unavailable\n"
     ]
    }
   ],
   "source": [
    "import vlc\n",
    "import time\n",
    "\n",
    "test_url = \"https://n0f.radiojar.com/cp13r2cpn3quv?rj-ttl=5\"\n",
    "url = input(\"Enter file address or URL (or press Enter to use test URL): \")\n",
    "if url.strip() == \"\":\n",
    "    url = test_url\n",
    "\n",
    "player = vlc.MediaPlayer(url)\n",
    "player.play()\n",
    "time.sleep(0.5)  # برای اطمینان از شروع پخش\n",
    "\n",
    "while True:\n",
    "    command = input(\"\\n1- Stop\\n2- Refresh\\n3- Volume\\n4- Sleep timer\\nEnter your choice: \")\n",
    "\n",
    "    if command == \"1\":\n",
    "        player.stop()\n",
    "        break\n",
    "\n",
    "    elif command == \"2\":\n",
    "        player.play()\n",
    "\n",
    "    elif command == \"3\":\n",
    "        try:\n",
    "            volume = int(input(\"Enter a number between 0 - 100 for the volume: \"))\n",
    "            if 0 <= volume <= 100:\n",
    "                player.audio_set_volume(volume)\n",
    "            else:\n",
    "                print(\"Volume must be between 0 and 100.\")\n",
    "        except ValueError:\n",
    "            print(\"Invalid number.\")\n",
    "\n",
    "    elif command == \"4\":\n",
    "        try:\n",
    "            timer = int(input(\"Enter time in minutes: \")) * 60\n",
    "            print(f\"Sleeping for {timer//60} minutes...\")\n",
    "            time.sleep(timer)\n",
    "            player.stop()\n",
    "            break\n",
    "        except ValueError:\n",
    "            print(\"Invalid number.\")\n",
    "\n",
    "    else:\n",
    "        print(\"Invalid choice, try again.\")\n",
    "\n",
    "\n"
   ]
  },
  {
   "cell_type": "code",
   "execution_count": null,
   "id": "e1b16199",
   "metadata": {},
   "outputs": [
    {
     "name": "stdout",
     "output_type": "stream",
     "text": [
      "zsh:1: no matches found: requests[socks]\n",
      "Note: you may need to restart the kernel to use updated packages.\n",
      "Checking URL accessibility...\n",
      "Error: The URL is not accessible or network issue.\n",
      "Loading audio stream... Please wait.\n",
      "Warning: Player failed to start playing. Please check the stream.\n"
     ]
    },
    {
     "name": "stderr",
     "output_type": "stream",
     "text": [
      "[0000778e9c003a80] main tls client error: TLS session handshake timeout\n",
      "[0000778e9c003a80] main tls client error: connection error: Resource temporarily unavailable\n",
      "[0000778e9c2bf990] main tls client error: TLS session handshake timeout\n",
      "[0000778e9c2bf990] main tls client error: connection error: Resource temporarily unavailable\n"
     ]
    },
    {
     "name": "stdout",
     "output_type": "stream",
     "text": [
      "Final volume level: -1\n"
     ]
    },
    {
     "ename": "",
     "evalue": "",
     "output_type": "error",
     "traceback": [
      "\u001b[1;31mThe Kernel crashed while executing code in the current cell or a previous cell. \n",
      "\u001b[1;31mPlease review the code in the cell(s) to identify a possible cause of the failure. \n",
      "\u001b[1;31mClick <a href='https://aka.ms/vscodeJupyterKernelCrash'>here</a> for more info. \n",
      "\u001b[1;31mView Jupyter <a href='command:jupyter.viewOutput'>log</a> for further details."
     ]
    }
   ],
   "source": [
    "%pip install requests[socks]\n",
    "\n",
    "import vlc\n",
    "import time\n",
    "import requests\n",
    "\n",
    "test_url = \"https://n0f.radiojar.com/cp13r2cpn3quv?rj-ttl=5\"\n",
    "url = input(\"Enter file address or URL: \")\n",
    "if url == \"\":\n",
    "    url = test_url\n",
    "\n",
    "# Check if URL is accessible\n",
    "print(\"Checking URL accessibility...\")\n",
    "\n",
    "# Example: Set up SOCKS5 proxy if needed\n",
    "proxies = {\n",
    "    \"http\": \"socks5://192.168.73.253:10808\",\n",
    "    \"https\": \"socks5://192.168.73.253:10808\"\n",
    "}\n",
    "\n",
    "def is_url_accessible(url):\n",
    "    try:\n",
    "        response = requests.head(url, timeout=5, proxies=proxies)\n",
    "        return response.status_code == 200\n",
    "    except requests.RequestException:\n",
    "        return False\n",
    "\n",
    "if not is_url_accessible(url):\n",
    "    print(\"Error: The URL is not accessible or network issue.\")\n",
    "    exit()\n",
    "\n",
    "print(\"Loading audio stream... Please wait.\")\n",
    "\n",
    "player = vlc.MediaPlayer(url)\n",
    "player.play()\n",
    "\n",
    "# Wait for the player to start playing\n",
    "time.sleep(1)\n",
    "state = player.get_state()\n",
    "if state not in (vlc.State.Playing, vlc.State.Buffering):\n",
    "    print(\"Warning: Player failed to start playing. Please check the stream.\")\n",
    "else:\n",
    "    print(\"Audio is playing.\")\n",
    "\n",
    "while True:\n",
    "    command = input(\"\\n1- Stop\\n2- Refresh\\n3- Volume\\n4- Sleep timer\\nYour choice: \")\n",
    "\n",
    "    if command == \"1\":\n",
    "        player.stop()\n",
    "        break\n",
    "\n",
    "    elif command == \"2\":\n",
    "        player.play()\n",
    "\n",
    "    elif command == \"3\":\n",
    "        volume = int(input(\"Enter a number between 1 - 100 for volume: \"))\n",
    "        player.audio_set_volume(volume)\n",
    "\n",
    "    elif command == \"4\":\n",
    "        timer = int(input(\"Enter time in minutes: \")) * 60\n",
    "        time.sleep(timer)\n",
    "        player.stop()\n",
    "        break\n",
    "\n",
    "    else:\n",
    "        print(\"Invalid command. Try again.\")\n",
    "\n",
    "print(\"Final volume level:\", player.audio_get_volume())\n"
   ]
  }
 ],
 "metadata": {
  "kernelspec": {
   "display_name": "podcast_widget",
   "language": "python",
   "name": "python3"
  },
  "language_info": {
   "codemirror_mode": {
    "name": "ipython",
    "version": 3
   },
   "file_extension": ".py",
   "mimetype": "text/x-python",
   "name": "python",
   "nbconvert_exporter": "python",
   "pygments_lexer": "ipython3",
   "version": "3.13.5"
  }
 },
 "nbformat": 4,
 "nbformat_minor": 5
}
