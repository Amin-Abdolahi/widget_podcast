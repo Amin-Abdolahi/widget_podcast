{
 "cells": [
  {
   "cell_type": "code",
   "execution_count": null,
   "id": "b5589f5c",
   "metadata": {},
   "outputs": [
    {
     "data": {
      "text/plain": [
       "0"
      ]
     },
     "execution_count": 10,
     "metadata": {},
     "output_type": "execute_result"
    }
   ],
   "source": [
    "import vlc\n",
    "import time\n",
    "\n",
    "\n",
    "url = \"https://n0f.radiojar.com/cp13r2cpn3quv?rj-ttl=5&rj-tok=AAABmFb28ogAsgFGYJBWp95T4Q\"\n",
    "\n",
    "player = vlc.MediaPlayer(url)\n",
    "player.play()\n",
    "\n",
    "#time.sleep()  # مثلا ۱۰ ثانیه پخش کنه\n",
    "\n",
    "#player.stop()\n"
   ]
  }
 ],
 "metadata": {
  "kernelspec": {
   "display_name": "podcast_widget",
   "language": "python",
   "name": "python3"
  },
  "language_info": {
   "codemirror_mode": {
    "name": "ipython",
    "version": 3
   },
   "file_extension": ".py",
   "mimetype": "text/x-python",
   "name": "python",
   "nbconvert_exporter": "python",
   "pygments_lexer": "ipython3",
   "version": "3.13.5"
  }
 },
 "nbformat": 4,
 "nbformat_minor": 5
}
